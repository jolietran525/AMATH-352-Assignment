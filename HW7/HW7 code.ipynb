{
  "nbformat": 4,
  "nbformat_minor": 0,
  "metadata": {
    "colab": {
      "provenance": []
    },
    "kernelspec": {
      "name": "python3",
      "display_name": "Python 3"
    },
    "language_info": {
      "name": "python"
    }
  },
  "cells": [
    {
      "cell_type": "code",
      "execution_count": null,
      "metadata": {
        "id": "UPPEKzdC09a0"
      },
      "outputs": [],
      "source": [
        "import numpy as np"
      ]
    },
    {
      "cell_type": "code",
      "source": [
        "# upload file to the directory\n",
        "\n",
        "from google.colab import files\n",
        "uploaded = files.upload()"
      ],
      "metadata": {
        "colab": {
          "base_uri": "https://localhost:8080/",
          "height": 73
        },
        "id": "8mCenTpW1UkO",
        "outputId": "1df9dcd7-914f-4b69-bb35-88b8d5d5db32"
      },
      "execution_count": null,
      "outputs": [
        {
          "output_type": "display_data",
          "data": {
            "text/plain": [
              "<IPython.core.display.HTML object>"
            ],
            "text/html": [
              "\n",
              "     <input type=\"file\" id=\"files-4a4f843d-e0cf-490b-95fc-34f5dbbe7b04\" name=\"files[]\" multiple disabled\n",
              "        style=\"border:none\" />\n",
              "     <output id=\"result-4a4f843d-e0cf-490b-95fc-34f5dbbe7b04\">\n",
              "      Upload widget is only available when the cell has been executed in the\n",
              "      current browser session. Please rerun this cell to enable.\n",
              "      </output>\n",
              "      <script>// Copyright 2017 Google LLC\n",
              "//\n",
              "// Licensed under the Apache License, Version 2.0 (the \"License\");\n",
              "// you may not use this file except in compliance with the License.\n",
              "// You may obtain a copy of the License at\n",
              "//\n",
              "//      http://www.apache.org/licenses/LICENSE-2.0\n",
              "//\n",
              "// Unless required by applicable law or agreed to in writing, software\n",
              "// distributed under the License is distributed on an \"AS IS\" BASIS,\n",
              "// WITHOUT WARRANTIES OR CONDITIONS OF ANY KIND, either express or implied.\n",
              "// See the License for the specific language governing permissions and\n",
              "// limitations under the License.\n",
              "\n",
              "/**\n",
              " * @fileoverview Helpers for google.colab Python module.\n",
              " */\n",
              "(function(scope) {\n",
              "function span(text, styleAttributes = {}) {\n",
              "  const element = document.createElement('span');\n",
              "  element.textContent = text;\n",
              "  for (const key of Object.keys(styleAttributes)) {\n",
              "    element.style[key] = styleAttributes[key];\n",
              "  }\n",
              "  return element;\n",
              "}\n",
              "\n",
              "// Max number of bytes which will be uploaded at a time.\n",
              "const MAX_PAYLOAD_SIZE = 100 * 1024;\n",
              "\n",
              "function _uploadFiles(inputId, outputId) {\n",
              "  const steps = uploadFilesStep(inputId, outputId);\n",
              "  const outputElement = document.getElementById(outputId);\n",
              "  // Cache steps on the outputElement to make it available for the next call\n",
              "  // to uploadFilesContinue from Python.\n",
              "  outputElement.steps = steps;\n",
              "\n",
              "  return _uploadFilesContinue(outputId);\n",
              "}\n",
              "\n",
              "// This is roughly an async generator (not supported in the browser yet),\n",
              "// where there are multiple asynchronous steps and the Python side is going\n",
              "// to poll for completion of each step.\n",
              "// This uses a Promise to block the python side on completion of each step,\n",
              "// then passes the result of the previous step as the input to the next step.\n",
              "function _uploadFilesContinue(outputId) {\n",
              "  const outputElement = document.getElementById(outputId);\n",
              "  const steps = outputElement.steps;\n",
              "\n",
              "  const next = steps.next(outputElement.lastPromiseValue);\n",
              "  return Promise.resolve(next.value.promise).then((value) => {\n",
              "    // Cache the last promise value to make it available to the next\n",
              "    // step of the generator.\n",
              "    outputElement.lastPromiseValue = value;\n",
              "    return next.value.response;\n",
              "  });\n",
              "}\n",
              "\n",
              "/**\n",
              " * Generator function which is called between each async step of the upload\n",
              " * process.\n",
              " * @param {string} inputId Element ID of the input file picker element.\n",
              " * @param {string} outputId Element ID of the output display.\n",
              " * @return {!Iterable<!Object>} Iterable of next steps.\n",
              " */\n",
              "function* uploadFilesStep(inputId, outputId) {\n",
              "  const inputElement = document.getElementById(inputId);\n",
              "  inputElement.disabled = false;\n",
              "\n",
              "  const outputElement = document.getElementById(outputId);\n",
              "  outputElement.innerHTML = '';\n",
              "\n",
              "  const pickedPromise = new Promise((resolve) => {\n",
              "    inputElement.addEventListener('change', (e) => {\n",
              "      resolve(e.target.files);\n",
              "    });\n",
              "  });\n",
              "\n",
              "  const cancel = document.createElement('button');\n",
              "  inputElement.parentElement.appendChild(cancel);\n",
              "  cancel.textContent = 'Cancel upload';\n",
              "  const cancelPromise = new Promise((resolve) => {\n",
              "    cancel.onclick = () => {\n",
              "      resolve(null);\n",
              "    };\n",
              "  });\n",
              "\n",
              "  // Wait for the user to pick the files.\n",
              "  const files = yield {\n",
              "    promise: Promise.race([pickedPromise, cancelPromise]),\n",
              "    response: {\n",
              "      action: 'starting',\n",
              "    }\n",
              "  };\n",
              "\n",
              "  cancel.remove();\n",
              "\n",
              "  // Disable the input element since further picks are not allowed.\n",
              "  inputElement.disabled = true;\n",
              "\n",
              "  if (!files) {\n",
              "    return {\n",
              "      response: {\n",
              "        action: 'complete',\n",
              "      }\n",
              "    };\n",
              "  }\n",
              "\n",
              "  for (const file of files) {\n",
              "    const li = document.createElement('li');\n",
              "    li.append(span(file.name, {fontWeight: 'bold'}));\n",
              "    li.append(span(\n",
              "        `(${file.type || 'n/a'}) - ${file.size} bytes, ` +\n",
              "        `last modified: ${\n",
              "            file.lastModifiedDate ? file.lastModifiedDate.toLocaleDateString() :\n",
              "                                    'n/a'} - `));\n",
              "    const percent = span('0% done');\n",
              "    li.appendChild(percent);\n",
              "\n",
              "    outputElement.appendChild(li);\n",
              "\n",
              "    const fileDataPromise = new Promise((resolve) => {\n",
              "      const reader = new FileReader();\n",
              "      reader.onload = (e) => {\n",
              "        resolve(e.target.result);\n",
              "      };\n",
              "      reader.readAsArrayBuffer(file);\n",
              "    });\n",
              "    // Wait for the data to be ready.\n",
              "    let fileData = yield {\n",
              "      promise: fileDataPromise,\n",
              "      response: {\n",
              "        action: 'continue',\n",
              "      }\n",
              "    };\n",
              "\n",
              "    // Use a chunked sending to avoid message size limits. See b/62115660.\n",
              "    let position = 0;\n",
              "    do {\n",
              "      const length = Math.min(fileData.byteLength - position, MAX_PAYLOAD_SIZE);\n",
              "      const chunk = new Uint8Array(fileData, position, length);\n",
              "      position += length;\n",
              "\n",
              "      const base64 = btoa(String.fromCharCode.apply(null, chunk));\n",
              "      yield {\n",
              "        response: {\n",
              "          action: 'append',\n",
              "          file: file.name,\n",
              "          data: base64,\n",
              "        },\n",
              "      };\n",
              "\n",
              "      let percentDone = fileData.byteLength === 0 ?\n",
              "          100 :\n",
              "          Math.round((position / fileData.byteLength) * 100);\n",
              "      percent.textContent = `${percentDone}% done`;\n",
              "\n",
              "    } while (position < fileData.byteLength);\n",
              "  }\n",
              "\n",
              "  // All done.\n",
              "  yield {\n",
              "    response: {\n",
              "      action: 'complete',\n",
              "    }\n",
              "  };\n",
              "}\n",
              "\n",
              "scope.google = scope.google || {};\n",
              "scope.google.colab = scope.google.colab || {};\n",
              "scope.google.colab._files = {\n",
              "  _uploadFiles,\n",
              "  _uploadFilesContinue,\n",
              "};\n",
              "})(self);\n",
              "</script> "
            ]
          },
          "metadata": {}
        },
        {
          "output_type": "stream",
          "name": "stdout",
          "text": [
            "Saving voting_data_train_test.npz to voting_data_train_test.npz\n"
          ]
        }
      ]
    },
    {
      "cell_type": "code",
      "source": [
        "# load file\n",
        "data = np.load('voting_data_train_test.npz')\n",
        "\n",
        "print(data.files)"
      ],
      "metadata": {
        "colab": {
          "base_uri": "https://localhost:8080/"
        },
        "id": "6aTxAjoKOpsQ",
        "outputId": "d3728bb7-f0ee-443e-d08a-8ac8e5e62536"
      },
      "execution_count": null,
      "outputs": [
        {
          "output_type": "stream",
          "name": "stdout",
          "text": [
            "['X_train', 'Y_train', 'X_test', 'Y_test']\n"
          ]
        }
      ]
    },
    {
      "cell_type": "code",
      "source": [
        "# Train the classifier with N = 16\n",
        "\n",
        "# construct matrix A\n",
        "\n",
        "M = 300\n",
        "\n",
        "A = np.append(np.ones((M, 1)), data['X_train'], axis = 1)\n",
        "\n",
        "# compute the alpha coefficients \n",
        "\n",
        "Q, R = np.linalg.qr(A)\n",
        "\n",
        "alpha = np.linalg.solve(R, np.dot(Q.T, data['Y_train']))\n",
        "\n",
        "# prediction on training set \n",
        "\n",
        "y_train_pred = np.sign(A.dot(alpha))\n",
        "\n",
        "# prediction on test set \n",
        "\n",
        "K = 135\n",
        "\n",
        "A_test = np.append(np.ones((K, 1)), data['X_test'], axis = 1)\n",
        "\n",
        "y_test_pred = np.sign(A_test.dot(alpha))\n",
        "\n",
        "# compute training MSE\n",
        "\n",
        "MSE_train = (1/M)*np.linalg.norm(y_train_pred - data['Y_train'])**2\n",
        "\n",
        "print(MSE_train)\n",
        "\n",
        "# compute test MSE\n",
        "\n",
        "MSE_test = (1/M)*np.linalg.norm(y_test_pred - data['Y_test'])**2\n",
        "\n",
        "print(MSE_test)"
      ],
      "metadata": {
        "colab": {
          "base_uri": "https://localhost:8080/"
        },
        "id": "jHImYIfOQJqb",
        "outputId": "d5764c18-2a35-4915-b973-e9c30d2e352c"
      },
      "execution_count": null,
      "outputs": [
        {
          "output_type": "stream",
          "name": "stdout",
          "text": [
            "0.13333333333333336\n",
            "0.12000000000000001\n"
          ]
        }
      ]
    },
    {
      "cell_type": "code",
      "source": [
        "# Train the classifier with N = 2\n",
        "\n",
        "# Construct matrix A_2\n",
        "A_2 = np.append(np.ones((M, 1)), data['X_train'][:, 0:2], axis = 1)\n",
        "\n",
        "# compute the alpha coefficients \n",
        "\n",
        "Q, R = np.linalg.qr(A_2)\n",
        "\n",
        "alpha_2 = np.linalg.solve(R, np.dot(Q.T, data['Y_train']))\n",
        "\n",
        "# prediction on training set  \n",
        "\n",
        "y_train_pred_2 = np.sign(A_2.dot(alpha_2))\n",
        "\n",
        "# prediction on test set \n",
        "\n",
        "A_test_2 = np.append(np.ones((K, 1)), data['X_test'][:, 0:2], axis = 1)\n",
        "\n",
        "y_test_pred_2 = np.sign(A_test_2.dot(alpha_2))\n",
        "\n",
        "# compute training MSE\n",
        "\n",
        "MSE_train_2 = (1/M)*np.linalg.norm(y_train_pred_2 - data['Y_train'])**2\n",
        "\n",
        "print(MSE_train_2)\n",
        "\n",
        "# compute test MSE\n",
        "\n",
        "MSE_test_2 = (1/M)*np.linalg.norm(y_test_pred_2 - data['Y_test'])**2\n",
        "\n",
        "print(MSE_test_2)"
      ],
      "metadata": {
        "colab": {
          "base_uri": "https://localhost:8080/"
        },
        "id": "q-aYqN_NUo1r",
        "outputId": "7f7df357-d3f0-4765-b56b-a5019dcccdad"
      },
      "execution_count": null,
      "outputs": [
        {
          "output_type": "stream",
          "name": "stdout",
          "text": [
            "1.24\n",
            "0.5733333333333333\n"
          ]
        }
      ]
    },
    {
      "cell_type": "code",
      "source": [
        "# Train the classifier with N = 3\n",
        "\n",
        "# Construct matrix A_3\n",
        "A_3 = np.append(np.ones((M, 1)), data['X_train'][:, 0:3], axis = 1)\n",
        "\n",
        "# compute the alpha coefficients \n",
        "\n",
        "Q, R = np.linalg.qr(A_3)\n",
        "\n",
        "alpha_3 = np.linalg.solve(R, np.dot(Q.T, data['Y_train']))\n",
        "\n",
        "# prediction on training set  \n",
        "\n",
        "y_train_pred_3 = np.sign(A_3.dot(alpha_3))\n",
        "\n",
        "# prediction on test set \n",
        "\n",
        "A_test_3 = np.append(np.ones((K, 1)), data['X_test'][:, 0:3], axis = 1)\n",
        "\n",
        "y_test_pred_3 = np.sign(A_test_3.dot(alpha_3))\n",
        "\n",
        "# compute training MSE\n",
        "\n",
        "MSE_train_3 = (1/M)*np.linalg.norm(y_train_pred_3 - data['Y_train'])**2\n",
        "\n",
        "print(MSE_train_3)\n",
        "\n",
        "# compute test MSE\n",
        "\n",
        "MSE_test_3 = (1/M)*np.linalg.norm(y_test_pred_3 - data['Y_test'])**2\n",
        "\n",
        "print(MSE_test_3)"
      ],
      "metadata": {
        "colab": {
          "base_uri": "https://localhost:8080/"
        },
        "id": "z106f1xMXKkc",
        "outputId": "cc841aca-2c07-413f-aab7-0a5d5bdeec06"
      },
      "execution_count": null,
      "outputs": [
        {
          "output_type": "stream",
          "name": "stdout",
          "text": [
            "0.3733333333333334\n",
            "0.36000000000000004\n"
          ]
        }
      ]
    },
    {
      "cell_type": "code",
      "source": [
        "# Train the classifier with N = 4\n",
        "\n",
        "# Construct matrix A_4\n",
        "A_4 = np.append(np.ones((M, 1)), data['X_train'][:, 0:4], axis = 1)\n",
        "\n",
        "# compute the alpha coefficients \n",
        "\n",
        "Q, R = np.linalg.qr(A_4)\n",
        "\n",
        "alpha_4 = np.linalg.solve(R, np.dot(Q.T, data['Y_train']))\n",
        "\n",
        "# prediction on training set  \n",
        "\n",
        "y_train_pred_4 = np.sign(A_4.dot(alpha_4))\n",
        "\n",
        "# prediction on test set \n",
        "\n",
        "A_test_4 = np.append(np.ones((K, 1)), data['X_test'][:, 0:4], axis = 1)\n",
        "\n",
        "y_test_pred_4 = np.sign(A_test_4.dot(alpha_4))\n",
        "\n",
        "# compute training MSE\n",
        "\n",
        "MSE_train_4 = (1/M)*np.linalg.norm(y_train_pred_4 - data['Y_train'])**2\n",
        "\n",
        "print(MSE_train_4)\n",
        "\n",
        "# compute test MSE\n",
        "\n",
        "MSE_test_4 = (1/M)*np.linalg.norm(y_test_pred_4 - data['Y_test'])**2\n",
        "\n",
        "print(MSE_test_4)"
      ],
      "metadata": {
        "colab": {
          "base_uri": "https://localhost:8080/"
        },
        "id": "9v94Kt-HYrwD",
        "outputId": "5a60f1ff-08e4-4fe5-a37b-6056092819cd"
      },
      "execution_count": null,
      "outputs": [
        {
          "output_type": "stream",
          "name": "stdout",
          "text": [
            "0.13333333333333336\n",
            "0.12000000000000001\n"
          ]
        }
      ]
    }
  ]
}