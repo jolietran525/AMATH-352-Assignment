{
  "nbformat": 4,
  "nbformat_minor": 0,
  "metadata": {
    "colab": {
      "provenance": []
    },
    "kernelspec": {
      "name": "python3",
      "display_name": "Python 3"
    },
    "language_info": {
      "name": "python"
    }
  },
  "cells": [
    {
      "cell_type": "markdown",
      "source": [
        "# **Part 1**"
      ],
      "metadata": {
        "id": "jLdofswUIzjd"
      }
    },
    {
      "cell_type": "code",
      "execution_count": 71,
      "metadata": {
        "id": "QRZt5N_wsLAO"
      },
      "outputs": [],
      "source": [
        "import numpy as np\n",
        "import matplotlib.pyplot as plt"
      ]
    },
    {
      "cell_type": "code",
      "source": [
        "## Create random vector a with N = 2^7\n",
        "np.random.seed(0)\n",
        "N = 2**7\n",
        "d = 2**4\n",
        "a = np.random.randn(N, d)\n",
        "\n",
        "## Pre-allocate the vector of pairwise angles theta_1\n",
        "theta_1 = np.zeros(int(N*(N-1)/2))\n",
        "\n",
        "## Compute and allocate the pairwise angles into theta_1\n",
        "x = 0\n",
        "for i in range(0, N-1):\n",
        "  for k in range(i+1, N):\n",
        "    theta_1[x] = np.arccos(np.dot(a[i,:], a[k,:])/(np.linalg.norm(a[i,:])*np.linalg.norm(a[k,:])))\n",
        "    x = x+1"
      ],
      "metadata": {
        "id": "HfKnxO36vMXY"
      },
      "execution_count": 72,
      "outputs": []
    },
    {
      "cell_type": "code",
      "source": [
        "## Create random vector a with N = 2^8\n",
        "np.random.seed(0)\n",
        "N = 2**8\n",
        "d = 2**4\n",
        "a = np.random.randn(N, d)\n",
        "\n",
        "## Pre-allocate the vector of pairwise angles theta_1\n",
        "theta_2 = np.zeros(int(N*(N-1)/2))\n",
        "\n",
        "## Compute and allocate the pairwise angles into theta_1\n",
        "x = 0\n",
        "for i in range(0, N-1):\n",
        "  for k in range(i+1, N):\n",
        "    theta_2[x] = np.arccos(np.dot(a[i,:], a[k,:])/(np.linalg.norm(a[i,:])*np.linalg.norm(a[k,:])))\n",
        "    x = x+1"
      ],
      "metadata": {
        "id": "OOAEhBBCmVQB"
      },
      "execution_count": 73,
      "outputs": []
    },
    {
      "cell_type": "code",
      "source": [
        "## Create random vector a with N = 2^9\n",
        "np.random.seed(0)\n",
        "N = 2**9\n",
        "d = 2**4\n",
        "a = np.random.randn(N, d)\n",
        "\n",
        "## Pre-allocate the vector of pairwise angles theta_1\n",
        "theta_3 = np.zeros(int(N*(N-1)/2))\n",
        "\n",
        "## Compute and allocate the pairwise angles into theta_1\n",
        "x = 0\n",
        "for i in range(0, N-1):\n",
        "  for k in range(i+1, N):\n",
        "    theta_3[x] = np.arccos(np.dot(a[i,:], a[k,:])/(np.linalg.norm(a[i,:])*np.linalg.norm(a[k,:])))\n",
        "    x = x+1"
      ],
      "metadata": {
        "id": "eqP4w3e-nVan"
      },
      "execution_count": 74,
      "outputs": []
    },
    {
      "cell_type": "code",
      "source": [
        "fig, axs = plt.subplots(1, 3)\n",
        "axs[0].hist(theta_1, bins=30, color = 'green')\n",
        "axs[0].axvline(np.pi/2, color='k', linestyle='dashed', linewidth=1) # create a verticle line at pi/2\n",
        "axs[0].set_xlabel('Angle (in rad)')\n",
        "axs[0].set_ylabel('Count')\n",
        "axs[0].set_title('N = 2^7', size = 12)\n",
        "\n",
        "axs[1].hist(theta_2, bins=30, color = 'blue')\n",
        "axs[1].axvline(np.pi/2, color='k', linestyle='dashed', linewidth=1) # create a verticle line at pi/2\n",
        "axs[1].set_xlabel('Angle (in rad)')\n",
        "axs[1].set_ylabel('Count')\n",
        "axs[1].set_title('N = 2^8', size = 12)\n",
        "\n",
        "axs[2].hist(theta_3, bins=30, color = 'red')\n",
        "axs[2].axvline(np.pi/2, color='k', linestyle='dashed', linewidth=1) # create a verticle line at pi/2\n",
        "axs[2].set_xlabel('Angle (in rad)')\n",
        "axs[2].set_ylabel('Count')\n",
        "axs[2].set_title('N = 2^9', size = 12)\n",
        "\n",
        "plt.subplots_adjust(left=0.1,\n",
        "                    bottom=0.1,\n",
        "                    right=2,\n",
        "                    top=1,\n",
        "                    wspace=0.5,\n",
        "                    hspace=0.1)"
      ],
      "metadata": {
        "colab": {
          "base_uri": "https://localhost:8080/",
          "height": 247
        },
        "id": "KhsGoIsVAcoc",
        "outputId": "ce7c922e-6f5c-4f26-e342-fc5f1f908c22"
      },
      "execution_count": 75,
      "outputs": [
        {
          "output_type": "display_data",
          "data": {
            "text/plain": [
              "<Figure size 432x288 with 3 Axes>"
            ],
            "image/png": "[encoded data removed]"
          },
          "metadata": {
            "needs_background": "light"
          }
        }
      ]
    },
    {
      "cell_type": "markdown",
      "source": [
        "# **Part 2**"
      ],
      "metadata": {
        "id": "XlKMymA5I9Sw"
      }
    },
    {
      "cell_type": "code",
      "source": [
        "## Create vector b with N = 2^7\n",
        "N = 2**7\n",
        "b1 = np.zeros([N, N])\n",
        "\n",
        "for i in range(N):\n",
        "  for j in range(N):\n",
        "    b1[i,j] = 1/float(i+j+1)\n",
        "\n",
        "## Pre-allocate the vector of pairwise angles theta_1\n",
        "theta_1 = np.zeros(int(N*(N-1)/2))\n",
        "\n",
        "## Compute and allocate the pairwise angles into theta_1\n",
        "x = 0\n",
        "for i in range(0, N-1):\n",
        "  for k in range(i+1, N):\n",
        "    theta_1[x] = np.arccos(np.dot(b1[i,:], b1[k,:])/(np.linalg.norm(b1[i,:])*np.linalg.norm(b1[k,:])))\n",
        "    x = x+1"
      ],
      "metadata": {
        "id": "ZUDD7q81IeuD"
      },
      "execution_count": 76,
      "outputs": []
    },
    {
      "cell_type": "code",
      "source": [
        "## Create vector b with N = 2^8\n",
        "N = 2**8\n",
        "b2 = np.zeros([N, N])\n",
        "\n",
        "for i in range(N):\n",
        "  for j in range(N):\n",
        "    b2[i,j] = 1/float(i+j+1)\n",
        "\n",
        "## Pre-allocate the vector of pairwise angles theta_2\n",
        "theta_2 = np.zeros(int(N*(N-1)/2))\n",
        "\n",
        "## Compute and allocate the pairwise angles into theta_2\n",
        "x = 0\n",
        "for i in range(0, N-1):\n",
        "  for k in range(i+1, N):\n",
        "    theta_2[x] = np.arccos(np.dot(b2[i,:], b2[k,:])/(np.linalg.norm(b2[i,:])*np.linalg.norm(b2[k,:])))\n",
        "    x = x+1"
      ],
      "metadata": {
        "id": "se86f7VXP3dU"
      },
      "execution_count": 77,
      "outputs": []
    },
    {
      "cell_type": "code",
      "source": [
        "## Create vector b with N = 2^9\n",
        "N = 2**9\n",
        "b3 = np.zeros([N, N])\n",
        "\n",
        "for i in range(N):\n",
        "  for j in range(N):\n",
        "    b3[i,j] = 1/float(i+j+1)\n",
        "    \n",
        "## Pre-allocate the vector of pairwise angles theta_3\n",
        "theta_3 = np.zeros(int(N*(N-1)/2))\n",
        "\n",
        "## Compute and allocate the pairwise angles into theta_3\n",
        "x = 0\n",
        "for i in range(0, N-1):\n",
        "  for k in range(i+1, N):\n",
        "    theta_3[x] = np.arccos(np.dot(b3[i,:], b3[k,:])/(np.linalg.norm(b3[i,:])*np.linalg.norm(b3[k,:])))\n",
        "    x = x+1"
      ],
      "metadata": {
        "id": "x4VL0fQMP6h0"
      },
      "execution_count": 78,
      "outputs": []
    },
    {
      "cell_type": "code",
      "source": [
        "fig, axs = plt.subplots(1, 3)\n",
        "axs[0].hist(theta_1, bins=40, color = 'green')\n",
        "axs[0].axvline(np.pi/2, color='k', linestyle='dashed', linewidth=1) # create a verticle line at pi/2\n",
        "axs[0].set_xlabel('Angle (in rad)')\n",
        "axs[0].set_ylabel('Count')\n",
        "axs[0].set_title('N = 2^7', size = 12)\n",
        "\n",
        "axs[1].hist(theta_2, bins=40, color = 'blue')\n",
        "axs[1].axvline(np.pi/2, color='k', linestyle='dashed', linewidth=1) # create a verticle line at pi/2\n",
        "axs[1].set_xlabel('Angle (in rad)')\n",
        "axs[1].set_ylabel('Count')\n",
        "axs[1].set_title('N = 2^8', size = 12)\n",
        "\n",
        "axs[2].hist(theta_3, bins=40, color = 'red')\n",
        "axs[2].axvline(np.pi/2, color='k', linestyle='dashed', linewidth=1) # create a verticle line at pi/2\n",
        "axs[2].set_xlabel('Angle (in rad)')\n",
        "axs[2].set_ylabel('Count')\n",
        "axs[2].set_title('N = 2^9', size = 12)\n",
        "\n",
        "plt.subplots_adjust(left=0.1,\n",
        "                    bottom=0.1,\n",
        "                    right=2,\n",
        "                    top=1,\n",
        "                    wspace=0.5,\n",
        "                    hspace=0.1)"
      ],
      "metadata": {
        "colab": {
          "base_uri": "https://localhost:8080/",
          "height": 245
        },
        "id": "nToOrE0oRcP5",
        "outputId": "af3e159f-09ec-4725-b4e1-c699841b0b67"
      },
      "execution_count": 79,
      "outputs": [
        {
          "output_type": "display_data",
          "data": {
            "text/plain": [
              "<Figure size 432x288 with 3 Axes>"
            ],
            "image/png": "[encoded data removed]"
          },
          "metadata": {
            "needs_background": "light"
          }
        }
      ]
    },
    {
      "cell_type": "code",
      "source": [
        "## Define classical Gram-Schmidt algorithm\n",
        "def cgs(A):\n",
        "  (m, n) = A.shape\n",
        "  Q = np.zeros([m, n])\n",
        "  zero = 10**(-16) * np.ones([1, n])\n",
        "\n",
        "  Q[0, :] = 1/np.linalg.norm(A[0, :]) * A[0, :]\n",
        "\n",
        "  for i in range(1, m): # other rows of Q\n",
        "    # orthogonalize\n",
        "    for j in range(i):\n",
        "      Q[i, :] = Q[i, :] + np.dot( A[i,:] , Q[j, :] ) * Q[j, :]\n",
        "    \n",
        "    Q[i, :] = A[i,:] - Q[i,:]\n",
        "\n",
        "    # check if Q[i, :] is a zero-vector\n",
        "    if np.array_equal( Q[i, :], zero ):\n",
        "      raise np.linalg.LinAlgError(\"The row vectors are not linearly independent\")\n",
        "      \n",
        "    # normalize\n",
        "    Q[i, :] = 1/np.linalg.norm(Q[i, :]) * Q[i, :]\n",
        "  \n",
        "  return Q"
      ],
      "metadata": {
        "id": "iP_SFOJpXvvn"
      },
      "execution_count": 80,
      "outputs": []
    },
    {
      "cell_type": "code",
      "source": [
        "## Use CGS to create an orthonormal set of vectors cq1 from b1\n",
        "N = 2**7\n",
        "cq1 = cgs(b1)\n",
        "\n",
        "## Pre-allocate the vector of pairwise angles theta_cq1\n",
        "theta_cq1 = np.zeros(int(N*(N-1)/2))\n",
        "\n",
        "## Compute and allocate the pairwise angles into theta_cq1\n",
        "x = 0\n",
        "for i in range(0, N-1):\n",
        "  for k in range(i+1, N):\n",
        "    theta_cq1[x] = np.arccos( np.dot(cq1[i,:], cq1[k,:]) / (np.linalg.norm(cq1[i,:])*np.linalg.norm(cq1[k,:])) )\n",
        "    x = x+1"
      ],
      "metadata": {
        "id": "VS5uxS3zX6z8"
      },
      "execution_count": 81,
      "outputs": []
    },
    {
      "cell_type": "code",
      "source": [
        "## Use CGS to create an orthonormal set of vectors cq2 from b2\n",
        "N = 2**8\n",
        "cq2 = cgs(b2)\n",
        "\n",
        "## Pre-allocate the vector of pairwise angles theta_cq2\n",
        "theta_cq2 = np.zeros(int(N*(N-1)/2))\n",
        "\n",
        "## Compute and allocate the pairwise angles into theta_cq2\n",
        "x = 0\n",
        "for i in range(0, N-1):\n",
        "  for k in range(i+1, N):\n",
        "    theta_cq2[x] = np.arccos( np.dot(cq2[i,:], cq2[k,:]) / (np.linalg.norm(cq2[i,:])*np.linalg.norm(cq2[k,:])) )\n",
        "    x = x+1"
      ],
      "metadata": {
        "id": "APySQI9jYFhW"
      },
      "execution_count": 82,
      "outputs": []
    },
    {
      "cell_type": "code",
      "source": [
        "## Use CGS to create an orthonormal set of vectors cq3 from b3\n",
        "N = 2**8\n",
        "cq3 = cgs(b3)\n",
        "\n",
        "## Pre-allocate the vector of pairwise angles theta_cs3\n",
        "theta_cq3 = np.zeros(int(N*(N-1)/2))\n",
        "\n",
        "## Compute and allocate the pairwise angles into theta_cq3\n",
        "x = 0\n",
        "for i in range(0, N-1):\n",
        "  for k in range(i+1, N):\n",
        "    theta_cq3[x] = np.arccos( np.dot(cq3[i,:], cq3[k,:]) / (np.linalg.norm(cq3[i,:])*np.linalg.norm(cq3[k,:])) )\n",
        "    x = x+1"
      ],
      "metadata": {
        "id": "wSEMx06NYXLy"
      },
      "execution_count": 83,
      "outputs": []
    },
    {
      "cell_type": "code",
      "source": [
        "fig, axs = plt.subplots(1, 3)\n",
        "\n",
        "axs[0].hist(theta_cq1, bins=30, color = 'green')\n",
        "axs[0].axvline(np.pi/2, color='k', linestyle='dashed', linewidth=1) # create a verticle line at pi/2\n",
        "axs[0].set_xlabel('Angle (in rad)')\n",
        "axs[0].set_ylabel('Count')\n",
        "axs[0].set_title('N = 2^7',  size = 12)\n",
        "\n",
        "axs[1].hist(theta_cq2, bins=30, color = 'blue')\n",
        "axs[1].axvline(np.pi/2, color='k', linestyle='dashed', linewidth=1) # create a verticle line at pi/2\n",
        "axs[1].set_xlabel('Angle (in rad)')\n",
        "axs[1].set_ylabel('Count')\n",
        "axs[1].set_title('N = 2^8', size = 12)\n",
        "\n",
        "axs[2].hist(theta_cq3, bins=30, color = 'red')\n",
        "axs[2].axvline(np.pi/2, color='k', linestyle='dashed', linewidth=1) # create a verticle line at pi/2\n",
        "axs[2].set_xlabel('Angle (in rad)')\n",
        "axs[2].set_ylabel('Count')\n",
        "axs[2].set_title('N = 2^9', size = 12)\n",
        "\n",
        "\n",
        "plt.subplots_adjust(left=0.1,\n",
        "                    bottom=0.1,\n",
        "                    right=2,\n",
        "                    top=1,\n",
        "                    wspace=0.5,\n",
        "                    hspace=0.1)"
      ],
      "metadata": {
        "colab": {
          "base_uri": "https://localhost:8080/",
          "height": 245
        },
        "id": "Dp_ectT1cCMh",
        "outputId": "338b226b-2328-4b97-8118-92a1b6f6cfe6"
      },
      "execution_count": 84,
      "outputs": [
        {
          "output_type": "display_data",
          "data": {
            "text/plain": [
              "<Figure size 432x288 with 3 Axes>"
            ],
            "image/png": "[encoded data removed]"
          },
          "metadata": {
            "needs_background": "light"
          }
        }
      ]
    },
    {
      "cell_type": "code",
      "source": [
        "## Define modified Gram-Schmidt algorithm\n",
        "def gs(A):\n",
        "  (m, n) = A.shape\n",
        "  Q = np.zeros([m, n])\n",
        "  zero = 10**(-16) * np.ones([1, n])\n",
        "\n",
        "  Q[0, :] = 1/np.linalg.norm(A[0, :]) * A[0, :]\n",
        "\n",
        "  for i in range(1, m): # other rows of Q\n",
        "    Q[i, :] = A[i,:]\n",
        "    # orthogonalize\n",
        "    for j in range(i):\n",
        "      Q[i, :] = Q[i, :] - np.dot( Q[j,:] , Q[i, :] ) * Q[j, :]\n",
        "\n",
        "    # check if Q[i, :] is a zero-vector\n",
        "    if np.array_equal( Q[i, :], zero ):\n",
        "      raise np.linalg.LinAlgError(\"The row vectors are not linearly independent\")\n",
        "      \n",
        "    # normalize\n",
        "    Q[i, :] = 1/np.linalg.norm(Q[i, :]) * Q[i, :]\n",
        "  \n",
        "  return Q"
      ],
      "metadata": {
        "id": "QVU8StFCsg9h"
      },
      "execution_count": 85,
      "outputs": []
    },
    {
      "cell_type": "code",
      "source": [
        "## Use Gram-Shmidt algorithm to create an orthonormal set of vectors q1 from b1\n",
        "N = 2**7\n",
        "q1 = gs(b1)\n",
        "\n",
        "## Pre-allocate the vector of pairwise angles theta_1\n",
        "theta_1 = np.zeros(int(N*(N-1)/2))\n",
        "\n",
        "## Compute and allocate the pairwise angles into theta_1\n",
        "x = 0\n",
        "for i in range(0, N-1):\n",
        "  for k in range(i+1, N):\n",
        "    theta_1[x] = np.arccos( np.dot(q1[i,:], q1[k,:]) / (np.linalg.norm(q1[i,:])*np.linalg.norm(q1[k,:])) )\n",
        "    x = x+1\n",
        "\n",
        "std1 = np.std(theta_1)\n",
        "mean1 = np.mean(theta_1)\n",
        "print(std1, mean1)"
      ],
      "metadata": {
        "id": "SxBRidnXMoAA",
        "colab": {
          "base_uri": "https://localhost:8080/"
        },
        "outputId": "8c62071e-40a2-4424-b8a5-71a94e495c3c"
      },
      "execution_count": 86,
      "outputs": [
        {
          "output_type": "stream",
          "name": "stdout",
          "text": [
            "0.030451109576927666 1.5708094456932247\n"
          ]
        }
      ]
    },
    {
      "cell_type": "code",
      "source": [
        "## Use Gram-Shmidt algorithm to create an orthonormal set of vectors q2 from b2\n",
        "N = 2**8\n",
        "q2 = gs(b2)\n",
        "\n",
        "## Pre-allocate the vector of pairwise angles theta_2\n",
        "theta_2 = np.zeros(int(N*(N-1)/2))\n",
        "\n",
        "## Compute and allocate the pairwise angles into theta_2\n",
        "x = 0\n",
        "for i in range(0, N-1):\n",
        "  for k in range(i+1, N):\n",
        "    theta_2[x] = np.arccos( np.dot(q2[i,:], q2[k,:]) / (np.linalg.norm(q2[i,:])*np.linalg.norm(q2[k,:])) )\n",
        "    x = x+1\n",
        "\n",
        "std2 = np.std(theta_2)\n",
        "mean2 = np.mean(theta_2)\n",
        "print(std2, mean2)"
      ],
      "metadata": {
        "id": "SlL3jXz-N_vp",
        "colab": {
          "base_uri": "https://localhost:8080/"
        },
        "outputId": "8432057b-6a42-476d-df04-25d8207b21e8"
      },
      "execution_count": 87,
      "outputs": [
        {
          "output_type": "stream",
          "name": "stdout",
          "text": [
            "0.017880084250032274 1.5707466042287233\n"
          ]
        }
      ]
    },
    {
      "cell_type": "code",
      "source": [
        "## Use Gram-Shmidt algorithm to create an orthonormal set of vectors q3 from b3\n",
        "N = 2**9\n",
        "q3 = gs(b3)\n",
        "\n",
        "## Pre-allocate the vector of pairwise angles theta_3\n",
        "theta_3 = np.zeros(int(N*(N-1)/2))\n",
        "\n",
        "## Compute and allocate the pairwise angles into theta_3\n",
        "x = 0\n",
        "for i in range(0, N-1):\n",
        "  for k in range(i+1, N):\n",
        "    theta_3[x] = np.arccos( np.dot(q3[i,:], q3[k,:]) / (np.linalg.norm(q3[i,:])*np.linalg.norm(q3[k,:])) )\n",
        "    x = x+1\n",
        "\n",
        "std3 = np.std(theta_3)\n",
        "mean3 = np.mean(theta_3)\n",
        "print(std3, mean3)"
      ],
      "metadata": {
        "id": "4f4b59f-OM5l",
        "colab": {
          "base_uri": "https://localhost:8080/"
        },
        "outputId": "ecb2d90a-4480-4807-bab4-d922c3e700e9"
      },
      "execution_count": 88,
      "outputs": [
        {
          "output_type": "stream",
          "name": "stdout",
          "text": [
            "0.01003912543492381 1.5707870411944496\n"
          ]
        }
      ]
    },
    {
      "cell_type": "code",
      "source": [
        "fig, axs = plt.subplots(1, 3)\n",
        "\n",
        "axs[0].hist(theta_1, bins=30, color = 'green')\n",
        "axs[0].axvline(np.pi/2, color='k', linestyle='dashed', linewidth=1) # create a verticle line at pi/2\n",
        "axs[0].set_xlabel('Angle (in rad)')\n",
        "axs[0].set_ylabel('Count')\n",
        "axs[0].set_title('N = 2^7',  size = 12)\n",
        "\n",
        "axs[1].hist(theta_2, bins=30, color = 'blue')\n",
        "axs[1].axvline(np.pi/2, color='k', linestyle='dashed', linewidth=1) # create a verticle line at pi/2\n",
        "axs[1].set_xlabel('Angle (in rad)')\n",
        "axs[1].set_ylabel('Count')\n",
        "axs[1].set_title('N = 2^8', size = 12)\n",
        "\n",
        "axs[2].hist(theta_3, bins=30, color = 'red')\n",
        "axs[2].axvline(np.pi/2, color='k', linestyle='dashed', linewidth=1) # create a verticle line at pi/2\n",
        "axs[2].set_xlabel('Angle (in rad)')\n",
        "axs[2].set_ylabel('Count')\n",
        "axs[2].set_title('N = 2^9', size = 12)\n",
        "\n",
        "\n",
        "plt.subplots_adjust(left=0.1,\n",
        "                    bottom=0.1,\n",
        "                    right=2,\n",
        "                    top=1,\n",
        "                    wspace=0.5,\n",
        "                    hspace=0.1)"
      ],
      "metadata": {
        "colab": {
          "base_uri": "https://localhost:8080/",
          "height": 243
        },
        "id": "uvicCGpEOcrx",
        "outputId": "aa93f0c6-f509-4967-c362-412edcb19825"
      },
      "execution_count": 89,
      "outputs": [
        {
          "output_type": "display_data",
          "data": {
            "text/plain": [
              "<Figure size 432x288 with 3 Axes>"
            ],
            "image/png": "[encoded data removed]"
          },
          "metadata": {
            "needs_background": "light"
          }
        }
      ]
    }
  ]
}